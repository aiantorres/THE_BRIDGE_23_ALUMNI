{
 "cells": [
  {
   "cell_type": "markdown",
   "metadata": {},
   "source": [
    "# Robin Hood: \n",
    "Estamos en plena competición para ganar el concurso de tiro con arco en Sherwood. Con nuestro arco y flechas disparamos sobre una diana e intentamos acertar lo más cerca posible del centro. \n",
    "\n",
    "El centro de la diana viene representado por los valores (0, 0) en los ejes de coordenadas. \n",
    "\n",
    "## Objetivos: \n",
    "* estructuras de datos: listas, conjuntos, tuplas\n",
    "* operadores lógicos: if-elif-else\n",
    "* bucle: while/for\n",
    "* cálculo de mínimo (sorting opcional)\n",
    "\n",
    "## Descripción: \n",
    "En el espacio de 2 dimensiones un punto se puede definir por un par de valores que corresponden a la coordenada horizontal (x) y a la vertical (y). El espacio puede quedar dividido en 4 zonas (cuadrantes): Q1, Q2, Q3, Q4. Cuyo punto de unión único es el punto (0, 0). \n",
    "\n",
    "Si un punto se encuentra en Q1 tanto su coordenada x como la y son positivas. Te dejo un enlace a wikipedia para que te familiarices con estos cuadrantes. \n",
    "\n",
    "https://es.wikipedia.org/wiki/Coordenadas_cartesianas\n",
    "\n",
    "https://es.wikipedia.org/wiki/Distancia_euclidiana\n",
    "\n",
    "## Tareas\n",
    "1. Robin Hood es famoso por acertar a una flecha con otra flecha. ¿Lo ha conseguido? \n",
    "2. Calcula cuántos flechazos han caido en cada cuadrante. \n",
    "3. Halla el punto más cercano al centro. Calcula su distancia al centro\n",
    "4. Si la diana tiene un radio de 9, calcula el número de flechas que hay que recoger al bosque. "
   ]
  },
  {
   "cell_type": "code",
   "execution_count": 11,
   "metadata": {},
   "outputs": [
    {
     "name": "stdout",
     "output_type": "stream",
     "text": [
      "Robin Hood ha acertado a una flecha con otra 5 veces.\n",
      "Flechas en el cuadrante 1: 10\n",
      "Flechas en el cuadrante 2: 6\n",
      "Flechas en el cuadrante 3: 2\n",
      "Flechas en el cuadrante 4: 2\n",
      "El punto más cercano al centro es (0, 2) con una distancia de 2.0\n",
      "Hay 2 flechas fuera del blanco\n"
     ]
    }
   ],
   "source": [
    "puntos = [(4,5), (-0,2), (4,7), (1,-3), (3,-2), (4,5), \n",
    "          (3,2), (5,7), (-5,7), (2,2), (-4,5), (0,-2), \n",
    "          (-4,7), (-1,3), (-3,2), (-4,-5), (-3,2), \n",
    "          (5,7), (5,7), (2,2), (9, 9), (-8, -9)]\n",
    "\n",
    "# 1. Robin Hood es famoso por acertar a una flecha con otra flecha. ¿Lo ha conseguido? \n",
    "longitud = len(puntos)\n",
    "longitud_repetidos = len(set(puntos))\n",
    "acertados = longitud - longitud_repetidos\n",
    "#print(longitud, longitud_repetidos)\n",
    "if longitud != longitud_repetidos:\n",
    "    print(f\"Robin Hood ha acertado a una flecha con otra {acertados} veces.\")\n",
    "else:\n",
    "    print(\"Robin Hood no ha acertado a una flecha con otra.\")\n",
    "\n",
    "# 2. Calcula cuántos flechazos han caido en cada cuadrante. \n",
    "cuadrantes = [0, 0, 0, 0]\n",
    "\n",
    "for x, y in puntos:\n",
    "    if x > 0 and y > 0:\n",
    "        cuadrantes[0] += 1\n",
    "    elif x < 0 and y > 0:\n",
    "        cuadrantes[1] += 1\n",
    "    elif x < 0 and y < 0:\n",
    "        cuadrantes[2] += 1\n",
    "    elif x > 0 and y < 0:\n",
    "        cuadrantes[3] += 1\n",
    "print(f\"Flechas en el cuadrante 1: {cuadrantes[0]}\")\n",
    "print(f\"Flechas en el cuadrante 2: {cuadrantes[1]}\")\n",
    "print(f\"Flechas en el cuadrante 3: {cuadrantes[2]}\")\n",
    "print(f\"Flechas en el cuadrante 4: {cuadrantes[3]}\")\n",
    "# 3. Halla el punto más cercano al centro. Calcula su distancia al centro\n",
    "# Definir una función que calcula la distancia al centro puede servir de ayuda. \n",
    "punto_cercano = None\n",
    "fuera_rango = 0\n",
    "min_distancia = float('inf') # valor superior ilimitado para la comparación. Útil para encontrar los valores más bajos para algo\n",
    "for point in puntos:\n",
    "    x, y = point\n",
    "    distance = (x ** 2 + y ** 2) ** 0.5 # Esta es la fórmula real dist = ((x2 - x1) ** 2 + (y2 - y1) ** 2) ** 0.5 pero como x1 y y y1 es cero se sustituye\n",
    "    if distance < min_distancia:\n",
    "        min_distancia = distance\n",
    "        punto_cercano = point\n",
    "    if distance > 9:\n",
    "        fuera_rango += 1\n",
    "print(f\"El punto más cercano al centro es {punto_cercano} con una distancia de {min_distancia}\")\n",
    "# 4. Si la diana tiene un radio de 9, calcula el número de flechas que hay que recoger al bosque. \n",
    "print(f\"Hay {fuera_rango} flechas fuera del blanco\")"
   ]
  },
  {
   "cell_type": "code",
   "execution_count": null,
   "metadata": {},
   "outputs": [],
   "source": []
  }
 ],
 "metadata": {
  "kernelspec": {
   "display_name": "Python 3",
   "language": "python",
   "name": "python3"
  },
  "language_info": {
   "codemirror_mode": {
    "name": "ipython",
    "version": 3
   },
   "file_extension": ".py",
   "mimetype": "text/x-python",
   "name": "python",
   "nbconvert_exporter": "python",
   "pygments_lexer": "ipython3",
   "version": "3.9.5"
  }
 },
 "nbformat": 4,
 "nbformat_minor": 2
}
