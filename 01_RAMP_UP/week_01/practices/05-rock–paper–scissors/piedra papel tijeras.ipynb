{
 "cells": [
  {
   "cell_type": "markdown",
   "metadata": {},
   "source": [
    "# Piedra, papel, tijeras\n",
    "\n",
    "Vamos jugar contra nuestro ordenador al famoso juego. \n",
    "\n",
    "https://es.wikipedia.org/wiki/Piedra,_papel_o_tijera\n",
    "\n",
    "Se aconseja el uso de funciones"
   ]
  },
  {
   "cell_type": "code",
   "execution_count": 3,
   "metadata": {},
   "outputs": [
    {
     "name": "stdout",
     "output_type": "stream",
     "text": [
      "La computadora eligió: papel\n",
      "Perdiste. Lo siento, la computadora gana.\n",
      "\n",
      "La computadora eligió: papel\n",
      "¡Ganaste! Las tijeras cortan el papel.\n",
      "\n",
      "La computadora eligió: tijera\n",
      "¡Ganaste! La piedra aplasta las tijeras.\n",
      "\n",
      "La computadora eligió: papel\n",
      "Empate!\n",
      "\n",
      "La computadora eligió: tijera\n",
      "Perdiste. Lo siento, la computadora gana.\n",
      "\n",
      "\n",
      "Resultados:\n",
      "Jugador ganó 2 veces\n",
      "Computadora ganó 2 veces\n",
      "El juego terminó en empate.\n"
     ]
    }
   ],
   "source": [
    "import random\n",
    "\n",
    "opciones = ['piedra', 'papel', 'tijera']\n",
    "\n",
    "# Variables para contar los resultados\n",
    "num_jugador_gana = 0\n",
    "num_computadora_gana = 0\n",
    "\n",
    "# Jugar 5 veces\n",
    "for i in range(5):\n",
    "\n",
    "    # Opción del usuario a través de Input\n",
    "    jugador = input(\"Elige piedra, papel o tijera: \").lower()\n",
    "\n",
    "    # Verificar que la opción del usuario sea válida\n",
    "    while jugador not in opciones:\n",
    "        jugador = input(\"Opción inválida. Elige piedra, papel o tijera: \").lower()\n",
    "\n",
    "    # Elegir una opción aleatoria para la computadora\n",
    "    computadora = random.choice(opciones)\n",
    "\n",
    "    # Imprimir la elección de la computadora\n",
    "    print(\"La computadora eligió:\", computadora)\n",
    "\n",
    "    # Determinar el resultado del juego\n",
    "    if jugador == computadora:\n",
    "        print(\"Empate!\")\n",
    "    elif jugador == 'piedra' and computadora == 'tijera':\n",
    "        print(\"¡Ganaste! La piedra aplasta las tijeras.\")\n",
    "        num_jugador_gana += 1\n",
    "    elif jugador == 'papel' and computadora == 'piedra':\n",
    "        print(\"¡Ganaste! El papel envuelve la piedra.\")\n",
    "        num_jugador_gana += 1\n",
    "    elif jugador == 'tijera' and computadora == 'papel':\n",
    "        print(\"¡Ganaste! Las tijeras cortan el papel.\")\n",
    "        num_jugador_gana += 1\n",
    "    else:\n",
    "        print(\"Perdiste. Lo siento, la computadora gana.\")\n",
    "        num_computadora_gana += 1\n",
    "    print()\n",
    "print()\n",
    "# Imprimir los resultados\n",
    "print(\"Resultados:\")\n",
    "print(f\"Jugador ganó {num_jugador_gana} veces\")\n",
    "print(f\"Computadora ganó {num_computadora_gana} veces\")\n",
    "\n",
    "if num_jugador_gana > num_computadora_gana:\n",
    "    print(\"¡Felicidades, ganaste el juego!\")\n",
    "elif num_jugador_gana < num_computadora_gana:\n",
    "    print(\"Lo siento, perdiste el juego.\")\n",
    "else:\n",
    "    print(\"El juego terminó en empate.\")"
   ]
  },
  {
   "cell_type": "markdown",
   "metadata": {},
   "source": [
    "Si has programado con cabeza, el bonus son simples modificaciones al juego original. "
   ]
  },
  {
   "cell_type": "markdown",
   "metadata": {},
   "source": [
    "## Objetivos\n",
    "1. Uso de bucle\n",
    "2. Captura de datos por consola\n",
    "3. Uso if-elif-else\n",
    "4. Uso de try-except\n",
    "5. Definición de funciones. Programación modular. \n",
    "6. Operadores lógicos. \n",
    "7. Imprimir por consola\n",
    "8. Importación de módulos externos"
   ]
  },
  {
   "cell_type": "code",
   "execution_count": null,
   "metadata": {},
   "outputs": [],
   "source": []
  }
 ],
 "metadata": {
  "kernelspec": {
   "display_name": "Python 3",
   "language": "python",
   "name": "python3"
  },
  "language_info": {
   "codemirror_mode": {
    "name": "ipython",
    "version": 3
   },
   "file_extension": ".py",
   "mimetype": "text/x-python",
   "name": "python",
   "nbconvert_exporter": "python",
   "pygments_lexer": "ipython3",
   "version": "3.9.5"
  }
 },
 "nbformat": 4,
 "nbformat_minor": 4
}
