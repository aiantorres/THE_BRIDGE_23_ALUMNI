{
 "cells": [
  {
   "cell_type": "markdown",
   "metadata": {},
   "source": [
    "# Bus\n",
    "\n",
    "Este bus tiene un sistema de control de subida y bajada de pasajeros para monitorizar el número de ocupantes que lleva y así detectar cuando hay un aforo demasiado alto. \n",
    "\n",
    "En cada parada la subida y bajada de pasajeros se representa por una tupla compuesta por dos números enteros. \n",
    "```\n",
    "bus_stop = (in, out)\n",
    "```\n",
    "La sucesión de paradas se representa con una lista estas tuplas.\n",
    "```\n",
    "stops = [(in1, out1), (in2, out2), (in3, out3), (in4, out4)]\n",
    "```\n",
    "\n",
    "## Objetivos: \n",
    "* listas, tuplas\n",
    "* bucles while/for\n",
    "* mínimo, máximo, longitud\n",
    "* media, desviación estandard\n",
    "\n",
    "## Tareas\n",
    "1. Calcula el número de paradas. \n",
    "2. Asigna a una variable una lista cuyos elementos sean el número de pasajeros en cada parada (in-out), \n",
    "3. Halla el máximo de ocupación del autobús. \n",
    "4. Calcula la media de la ocupación. Y la desviación estandard. \n"
   ]
  },
  {
   "cell_type": "code",
   "execution_count": 4,
   "metadata": {},
   "outputs": [
    {
     "name": "stdout",
     "output_type": "stream",
     "text": [
      "El Bus realiza un total de 9 paradas \n",
      "10\n",
      "13\n",
      "11\n",
      "10\n",
      "14\n",
      "10\n",
      "7\n",
      "5\n",
      "4\n",
      "Número de pasajeros en cada parada: [10, 13, 11, 10, 14, 10, 7, 5, 4]\n",
      "Máximo de ocupación del autobús: 14\n",
      "Media de la ocupación: 9.333333333333334\n",
      "Desviación estándar de la ocupación: 3.391164991562634\n"
     ]
    }
   ],
   "source": [
    "import statistics\n",
    "\n",
    "stops = [(10, 0), (4, 1), (3, 5), (3, 4), (5, 1), (1, 5), (5, 8), (4, 6), (2, 3)]\n",
    "\n",
    "# 1. Calcula el número de paradas. \n",
    "num_paradas = len(stops)\n",
    "print(f\"El Bus realiza un total de {num_paradas} paradas \")\n",
    "\n",
    "# 2. Asigna a una variable una lista cuyos elementos sean el número de pasajeros en \n",
    "# cada parada: Cada elemento depende del elemento previo en la lista + in - out.  \n",
    "pasajeros_parada = []\n",
    "ocupacion = 0\n",
    "\n",
    "for suben, bajan in stops:\n",
    "    ocupacion += suben - bajan\n",
    "    pasajeros_parada.append(ocupacion)\n",
    "    print(ocupacion)\n",
    "\n",
    "print(f\"Número de pasajeros en cada parada: {pasajeros_parada}\")\n",
    "\n",
    "# 3. Halla el máximo de ocupación del autobús. \n",
    "max_ocupacion = max(pasajeros_parada)\n",
    "print(f\"Máximo de ocupación del autobús: {max_ocupacion}\")\n",
    "\n",
    "# 4. Calcula la media de la ocupación. Y la desviación estandard. \n",
    "media = statistics.mean(pasajeros_parada)\n",
    "desv_estandar = statistics.stdev(pasajeros_parada)\n",
    "\n",
    "print(f\"Media de la ocupación: {media}\")\n",
    "print(f\"Desviación estándar de la ocupación: {desv_estandar}\")\n"
   ]
  },
  {
   "cell_type": "code",
   "execution_count": null,
   "metadata": {},
   "outputs": [],
   "source": []
  }
 ],
 "metadata": {
  "kernelspec": {
   "display_name": "Python 3",
   "language": "python",
   "name": "python3"
  },
  "language_info": {
   "codemirror_mode": {
    "name": "ipython",
    "version": 3
   },
   "file_extension": ".py",
   "mimetype": "text/x-python",
   "name": "python",
   "nbconvert_exporter": "python",
   "pygments_lexer": "ipython3",
   "version": "3.9.5"
  }
 },
 "nbformat": 4,
 "nbformat_minor": 2
}
