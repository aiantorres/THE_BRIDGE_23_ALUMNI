{
 "cells": [
  {
   "attachments": {},
   "cell_type": "markdown",
   "metadata": {},
   "source": [
    "# 01 - Caracol y el pozo\n",
    "\n",
    "Un caracol cae en el fondo de un pozo de 125 cm. Cada día el caracol sube 30 cm. pero por la noche, mientras duerme, resbala 20 cm debido a que las paredes son húmedas. ¿Cuantos días tarda en escapar del pozo?\n",
    "\n",
    "TIP: https://www.vix.com/es/btg/curiosidades/59215/acertijos-matematicos-el-caracol-en-el-pozo-facil\n",
    "\n",
    "TIP: http://puzzles.nigelcoldwell.co.uk/sixtytwo.htm\n",
    "\n"
   ]
  },
  {
   "cell_type": "markdown",
   "metadata": {},
   "source": [
    "## Solución"
   ]
  },
  {
   "cell_type": "code",
   "execution_count": 2,
   "metadata": {},
   "outputs": [
    {
     "name": "stdout",
     "output_type": "stream",
     "text": [
      "Días = 11\n"
     ]
    }
   ],
   "source": [
    "# Asigna los datos del problema a variables con nombres representativos\n",
    "# altura del pozo, avance diario, retroceso nocturno, distancia acumulada\n",
    "alt_pozo = 125 #15\n",
    "avance_day = 30 #3\n",
    "retroceso_day = 20 #2\n",
    "distancia_acumulada = 0\n",
    "# Asigna 0 a la variable que representa la solución\n",
    "dias = 0\n",
    "\n",
    "# Escribe el código que soluciona el problema\n",
    "while distancia_acumulada < alt_pozo:\n",
    "        dias = dias + 1\n",
    "        distancia_acumulada += avance_day\n",
    "        #print(distancia_acumulada)\n",
    "        if distancia_acumulada >= alt_pozo:\n",
    "                break\n",
    "        else:\n",
    "            distancia_acumulada -= retroceso_day\n",
    "            #print(distancia_acumulada)\n",
    "\n",
    "# Imprime el resultado con print('Dias =', dias)\n",
    "print('Días =', dias)\n"
   ]
  },
  {
   "cell_type": "markdown",
   "metadata": {},
   "source": [
    "## Objetivos\n",
    "\n",
    "1. Tratamiento de variables\n",
    "2. Uso de bucle **while**\n",
    "3. Uso de condicionales **if-else**\n",
    "4. Imprimir por consola"
   ]
  },
  {
   "attachments": {},
   "cell_type": "markdown",
   "metadata": {},
   "source": [
    "## Bonus\n",
    "La distancia recorrida por el caracol viene ahora definida por una lista. \n",
    "```\n",
    "avance_cm = [30, 21, 33, 77, 44, 45, 23, 45, 12, 34, 55]\n",
    "```\n",
    "¿Cuánto tarda en subir el pozo?\n",
    "¿Cuál es su máximo de desplazamiento en un día? ¿Y su mínimo?\n",
    "¿Cuál es su media de velocidad durante el día?\n",
    "¿Cuál es la desviación típica de su desplazamiento durante el día?\n"
   ]
  },
  {
   "cell_type": "code",
   "execution_count": 4,
   "metadata": {},
   "outputs": [
    {
     "name": "stdout",
     "output_type": "stream",
     "text": [
      "El caracol tarda 5 días en subir el pozo.\n",
      "El máximo de desplazamiento en un día es 77 cm.\n",
      "El mínimo de desplazamiento en un día es 12 cm.\n",
      "La media de velocidad durante el día es 38.09090909090909 cm.\n",
      "La desviación típica del desplazamiento durante el día es 17.159437082600803 cm.\n"
     ]
    }
   ],
   "source": [
    "# Asigna los datos del problema a variables con nombres representativos\n",
    "# altura del pozo, avance diario, retroceso nocturno, distancia acumulada\n",
    "alt_pozo = 125 \n",
    "retroceso_day = 20 \n",
    "distancia_acumulada = 0\n",
    "avance_cm = [30, 21, 33, 77, 44, 45, 23, 45, 12, 34, 55]\n",
    "\n",
    "# Asigna 0 a la variable que representa la solución\n",
    "dias = 0\n",
    "\n",
    "# Escribe el código que soluciona el problema\n",
    "for avance in avance_cm:\n",
    "    dias += 1\n",
    "    distancia_acumulada += avance\n",
    "    if distancia_acumulada >= alt_pozo:\n",
    "        break\n",
    "    distancia_acumulada -= retroceso_day  # descenso nocturno\n",
    "    \n",
    "\n",
    "# Imprime el resultado con print('Dias =', dias)\n",
    "print(f\"El caracol tarda {dias} días en subir el pozo.\")\n",
    "\n",
    "# ¿Cuál es su máximo de desplazamiento en un día? ¿Y su mínimo?\n",
    "maximo = max(avance_cm)\n",
    "minimo = min(avance_cm)\n",
    "print(f\"El máximo de desplazamiento en un día es {maximo} cm.\")\n",
    "print(f\"El mínimo de desplazamiento en un día es {minimo} cm.\")\n",
    "# ¿Cuál es su media de avance?\n",
    "media = sum(avance_cm) / len(avance_cm)\n",
    "print(f\"La media de velocidad durante el día es {media} cm.\")\n",
    "\n",
    "# ¿Cuál es la desviación típica de su desplazamiento durante el día?\n",
    "varianza = sum((x - media) ** 2 for x in avance_cm) / len(avance_cm)\n",
    "desviacion_tipica = varianza ** 0.5\n",
    "print(f\"La desviación típica del desplazamiento durante el día es {desviacion_tipica} cm.\")\n"
   ]
  },
  {
   "cell_type": "code",
   "execution_count": null,
   "metadata": {},
   "outputs": [],
   "source": []
  }
 ],
 "metadata": {
  "kernelspec": {
   "display_name": "Python 3 (ipykernel)",
   "language": "python",
   "name": "python3"
  },
  "language_info": {
   "codemirror_mode": {
    "name": "ipython",
    "version": 3
   },
   "file_extension": ".py",
   "mimetype": "text/x-python",
   "name": "python",
   "nbconvert_exporter": "python",
   "pygments_lexer": "ipython3",
   "version": "3.9.5"
  }
 },
 "nbformat": 4,
 "nbformat_minor": 4
}
