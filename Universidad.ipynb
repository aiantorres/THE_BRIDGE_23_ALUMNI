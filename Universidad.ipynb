{
 "cells": [
  {
   "cell_type": "code",
   "execution_count": 2,
   "metadata": {},
   "outputs": [
    {
     "ename": "OperationalError",
     "evalue": "table Asignatura already exists",
     "output_type": "error",
     "traceback": [
      "\u001b[1;31m---------------------------------------------------------------------------\u001b[0m",
      "\u001b[1;31mOperationalError\u001b[0m                          Traceback (most recent call last)",
      "Cell \u001b[1;32mIn[2], line 8\u001b[0m\n\u001b[0;32m      4\u001b[0m conexion \u001b[39m=\u001b[39m sqlite3\u001b[39m.\u001b[39mconnect(\u001b[39m'\u001b[39m\u001b[39muniversidad.db\u001b[39m\u001b[39m'\u001b[39m)\n\u001b[0;32m      5\u001b[0m cursor \u001b[39m=\u001b[39m conexion\u001b[39m.\u001b[39mcursor()\n\u001b[1;32m----> 8\u001b[0m cursor\u001b[39m.\u001b[39;49mexecute(\u001b[39m'''\u001b[39;49m\n\u001b[0;32m      9\u001b[0m \u001b[39m    CREATE TABLE Asignatura (\u001b[39;49m\n\u001b[0;32m     10\u001b[0m \u001b[39m        Id INTEGER PRIMARY KEY,\u001b[39;49m\n\u001b[0;32m     11\u001b[0m \u001b[39m        Nombre VARCHAR(100) NOT NULL\u001b[39;49m\n\u001b[0;32m     12\u001b[0m \u001b[39m    )\u001b[39;49m\n\u001b[0;32m     13\u001b[0m \u001b[39m'''\u001b[39;49m)\n\u001b[0;32m     16\u001b[0m cursor\u001b[39m.\u001b[39mexecute(\u001b[39m'''\u001b[39m\n\u001b[0;32m     17\u001b[0m \u001b[39m    CREATE TABLE Inscripcion (\u001b[39m\n\u001b[0;32m     18\u001b[0m \u001b[39m        Id INTEGER PRIMARY KEY,\u001b[39m\n\u001b[1;32m   (...)\u001b[0m\n\u001b[0;32m     23\u001b[0m \u001b[39m    )\u001b[39m\n\u001b[0;32m     24\u001b[0m \u001b[39m'''\u001b[39m)\n\u001b[0;32m     27\u001b[0m cursor\u001b[39m.\u001b[39mexecute(\u001b[39m'''\u001b[39m\n\u001b[0;32m     28\u001b[0m \u001b[39m    CREATE TABLE Alumnos (\u001b[39m\n\u001b[0;32m     29\u001b[0m \u001b[39m        Id INTEGER PRIMARY KEY,\u001b[39m\n\u001b[1;32m   (...)\u001b[0m\n\u001b[0;32m     34\u001b[0m \u001b[39m    )\u001b[39m\n\u001b[0;32m     35\u001b[0m \u001b[39m'''\u001b[39m)\n",
      "\u001b[1;31mOperationalError\u001b[0m: table Asignatura already exists"
     ]
    }
   ],
   "source": [
    "import sqlite3\n",
    "\n",
    "\n",
    "conexion = sqlite3.connect('universidad.db')\n",
    "cursor = conexion.cursor()\n",
    "\n",
    "\n",
    "cursor.execute('''\n",
    "    CREATE TABLE Asignatura (\n",
    "        Id INTEGER PRIMARY KEY,\n",
    "        Nombre VARCHAR(100) NOT NULL\n",
    "    )\n",
    "''')\n",
    "\n",
    "\n",
    "cursor.execute('''\n",
    "    CREATE TABLE Inscripcion (\n",
    "        Id INTEGER PRIMARY KEY,\n",
    "        IdAsignatura INTEGER NOT NULL,\n",
    "        IdAlumno INTEGER NOT NULL,\n",
    "        IdProfesor INTEGER NOT NULL,\n",
    "        Fecha DATE NOT NULL\n",
    "    )\n",
    "''')\n",
    "\n",
    "\n",
    "cursor.execute('''\n",
    "    CREATE TABLE Alumnos (\n",
    "        Id INTEGER PRIMARY KEY,\n",
    "        Nombre VARCHAR(100) NOT NULL,\n",
    "        Apellido VARCHAR(100) NOT NULL,\n",
    "        Direccion TEXT NOT NULL,\n",
    "        Fecha_Nacimiento DATE\n",
    "    )\n",
    "''')\n",
    "\n",
    "\n",
    "cursor.execute('''\n",
    "    CREATE TABLE Profesor (\n",
    "        Id INTEGER PRIMARY KEY,\n",
    "        Nombre VARCHAR(100) NOT NULL,\n",
    "        Apellido VARCHAR(100) NOT NULL,\n",
    "        Direccion VARCHAR(200) NOT NULL,\n",
    "        Fecha_Nacimiento DATE NOT NULL,\n",
    "        Nivel_Academico TEXT NOT NULL\n",
    "    )\n",
    "''')\n",
    "\n",
    "\n",
    "conexion.commit()\n",
    "conexion.close()"
   ]
  }
 ],
 "metadata": {
  "kernelspec": {
   "display_name": "ramp_up_py395",
   "language": "python",
   "name": "python3"
  },
  "language_info": {
   "codemirror_mode": {
    "name": "ipython",
    "version": 3
   },
   "file_extension": ".py",
   "mimetype": "text/x-python",
   "name": "python",
   "nbconvert_exporter": "python",
   "pygments_lexer": "ipython3",
   "version": "3.9.5"
  },
  "orig_nbformat": 4
 },
 "nbformat": 4,
 "nbformat_minor": 2
}
